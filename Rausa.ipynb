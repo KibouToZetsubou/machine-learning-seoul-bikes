{
 "cells": [
  {
   "cell_type": "code",
   "execution_count": null,
   "id": "5aa28347-2e7d-4973-8faf-4d61618c943f",
   "metadata": {},
   "outputs": [],
   "source": [
    "import pandas as pd\n",
    "from sklearn.preprocessing import StandardScaler\n",
    "from sklearn.model_selection import train_test_split, GridSearchCV\n",
    "from sklearn.metrics import mean_squared_error\n",
    "from sklearn.linear_model import Ridge\n",
    "from sklearn.utils import resample\n",
    "import numpy as np\n",
    "import matplotlib.pyplot as plt\n",
    "%matplotlib inline\n",
    "from matplotlib.pylab import rcParams\n",
    "rcParams['figure.figsize'] = 12,10"
   ]
  },
  {
   "cell_type": "code",
   "execution_count": null,
   "id": "a2d67ca2-62b6-4b0e-bb1a-e58eed35de60",
   "metadata": {},
   "outputs": [],
   "source": [
    "df = pd.read_csv(\"SeoulBikeData.csv\", encoding='unicode_escape')\n",
    "df.info()"
   ]
  },
  {
   "cell_type": "code",
   "execution_count": null,
   "id": "1e3deaa7-b473-4a5e-b0ab-c332bce62589",
   "metadata": {},
   "outputs": [],
   "source": [
    "data = df[['Rented Bike Count', 'Temperature(°C)']].copy()\n",
    "data.columns = ['y', 'X']\n",
    "display(data)\n",
    "plt.figure(figsize=(16, 8))\n",
    "plt.scatter(\n",
    "    data['X'],\n",
    "    data['y'],\n",
    "    c='black'\n",
    ")"
   ]
  },
  {
   "cell_type": "code",
   "execution_count": null,
   "id": "7041b173-38f4-41d4-a5e0-5a60826acf8c",
   "metadata": {
    "scrolled": true
   },
   "outputs": [],
   "source": [
    "for i in range(2,16):\n",
    "    colname = 'X_{}'.format(i)\n",
    "    data.loc[:, colname] = data['X']**i\n",
    "data.head()"
   ]
  },
  {
   "cell_type": "code",
   "execution_count": null,
   "id": "ef212f71-3101-4d10-b3d8-a868dcda820f",
   "metadata": {},
   "outputs": [],
   "source": [
    "data.shape"
   ]
  },
  {
   "cell_type": "markdown",
   "id": "a4e23e50-072d-4f2c-b51f-fe9e2e9c42df",
   "metadata": {},
   "source": [
    "# Linear Regression\n",
    "Tecnica statistica che cerca di modellare la relazione tra una variabile dipendente e una o più variabili indipendenti attraverso una relazione lineare. Questo è espressamente utile quando si desidera comprendere il comportamento di una variabile risposta in base a una o più variabili predittive.\n",
    "\n",
    "**Codice:** Funzione che esegue una regressione lineare sul dataset _data_, consentendo al modello di avere un grado di polinomio specificato da _power_. La funzione restituisce il risultato della regressione lineare in un formato predefinito, inclusi l'**RSS** _(Residual Sum of Squares)_, l'**intercetta** e i **coefficienti dei predittori**. "
   ]
  },
  {
   "cell_type": "code",
   "execution_count": null,
   "id": "c7394324-88f9-4dec-9478-8ffd9010b08b",
   "metadata": {},
   "outputs": [],
   "source": [
    "from sklearn.linear_model import LinearRegression\n",
    "def linear_regression(data, power, models_to_plot):\n",
    "    # Initialize predictors:\n",
    "    predictors = ['X']\n",
    "    if power >= 2:\n",
    "        predictors.extend(['X_{}'.format(i) for i in range(2, power+1)])\n",
    "\n",
    "    # Fit the model:\n",
    "    scaler = StandardScaler()\n",
    "    data_scaled = scaler.fit_transform(data[predictors])\n",
    "    linreg = LinearRegression()\n",
    "    linreg.fit(data_scaled, data['y'])\n",
    "    y_pred = linreg.predict(data_scaled)\n",
    "\n",
    "    #Check if a plot is to be made for the entered power:\n",
    "    if power in models_to_plot:\n",
    "        plt.subplot(models_to_plot[power])\n",
    "        plt.tight_layout()\n",
    "        plt.plot(data['X'], data['y'], '.')\n",
    "        plt.plot(data['X'], y_pred)\n",
    "        plt.title('Plot for power: {}'.format(power))\n",
    "\n",
    "    #Return the result in pre-defined format:\n",
    "    rss = sum((y_pred-data['y'])**2)\n",
    "    ret = [rss]\n",
    "    ret.extend([linreg.intercept_])\n",
    "    ret.extend(linreg.coef_)\n",
    "    return ret"
   ]
  },
  {
   "cell_type": "code",
   "execution_count": null,
   "id": "bc9ffe9e-1c26-44f9-9c33-f968e754eb30",
   "metadata": {},
   "outputs": [],
   "source": [
    "col = ['rss', 'intercept'] + ['coeff_X_{}'.format(i) for i in range(1,16)]\n",
    "ind = ['model_pow_{}'.format(i) for i in range(1,16)]\n",
    "coeff_matrix_simple = pd.DataFrame(index=ind, columns=col)"
   ]
  },
  {
   "cell_type": "code",
   "execution_count": null,
   "id": "9885482d-13c3-418b-be41-5983c7a8e346",
   "metadata": {},
   "outputs": [],
   "source": [
    "models_to_plot = {1:231,3:232,6:233,9:234,12:235,15:236}\n",
    "for i in range(1,16):\n",
    "    coeff_matrix_simple.iloc[i-1, 0:i+2] = linear_regression(data, i, models_to_plot)"
   ]
  },
  {
   "cell_type": "code",
   "execution_count": null,
   "id": "02d4d91a-9572-45ae-9c0d-6efaec26606a",
   "metadata": {},
   "outputs": [],
   "source": [
    "#Set the display format to be scientific for ease of analysis\n",
    "pd.options.display.float_format = '{:,.2g}'.format\n",
    "coeff_matrix_simple"
   ]
  },
  {
   "cell_type": "markdown",
   "id": "9cca7844-a4ba-45e7-8700-5a3a6dacc338",
   "metadata": {},
   "source": [
    "# Ridge Regression\n",
    "Tecnica di regressione lineare regolarizzata che aggiunge un termine di regolarizzazione L2 alla funzione obiettivo. Questo termine di regolarizzazione aiutà a ridurre la complessità del modello impedendo ai coefficienti dei predittori di diventare troppo grandi, prevenendo l'overfitting.\n",
    "\n",
    "**Codice:** Funzione che implementa la regressione Ridge sul dataset _data_, utilizzando i predittori specificati. La variabile _alpha_ rappresenta il parametro di regolarizzazione, che controlla il grado di regolarizzazione applicato al modello. La funzione restituisce il risultato della regressione Ridge in un formato predefinito, incluso l'**RSS** _(Residual Sum of Squares)_, l'**intercetta** e i **coefficienti dei predittori**."
   ]
  },
  {
   "cell_type": "code",
   "execution_count": null,
   "id": "991c4c69-5cd8-44aa-ba9b-60f92116af9e",
   "metadata": {},
   "outputs": [],
   "source": [
    "from sklearn.linear_model import Ridge\n",
    "def ridge_regression(data, predictors, alpha, models_to_plot):\n",
    "    #Fit the model\n",
    "    scaler = StandardScaler()\n",
    "    data_scaled = scaler.fit_transform(data[predictors])\n",
    "    ridgereg = Ridge(alpha=alpha)\n",
    "    ridgereg.fit(data_scaled, data['y'])\n",
    "    y_pred = ridgereg.predict(data_scaled)\n",
    "\n",
    "    #Check if a plot is to be made for the entered alpha\n",
    "    if alpha in models_to_plot:\n",
    "        plt.subplot(models_to_plot[alpha])\n",
    "        plt.tight_layout()\n",
    "        plt.plot(data['X'],data['y'],'.')\n",
    "        plt.plot(data['X'],y_pred)\n",
    "        plt.title('Plot for alpha: {}'.format(alpha))\n",
    "    \n",
    "    #Return the result in pre-defined format\n",
    "    rss = sum((y_pred-data['y'])**2)\n",
    "    ret = [rss]\n",
    "    ret.extend([ridgereg.intercept_])\n",
    "    ret.extend(ridgereg.coef_)\n",
    "    return ret"
   ]
  },
  {
   "cell_type": "code",
   "execution_count": null,
   "id": "e8e43195-b533-4ae1-ad64-6eaf2b3898ac",
   "metadata": {},
   "outputs": [],
   "source": [
    "#Initialize predictors to be set of 15 powers of x\n",
    "predictors=['X']\n",
    "predictors.extend(['X_{}'.format(i) for i in range(2,16)])\n",
    "\n",
    "#Set the different values of alpha to be tested\n",
    "alpha_ridge = [1e-15, 1e-10, 1e-8, 1e-4, 1e-3,1e-2, 1, 5, 10, 20]\n",
    "#Initialize the dataframe for storing coefficients.\n",
    "col = ['rss','intercept'] + ['coef_X_{}'.format(i) for i in range(1,16)]\n",
    "ind = ['alpha_{}'.format(alpha_ridge[i]) for i in range(0,10)]\n",
    "coef_matrix_ridge = pd.DataFrame(index=ind, columns=col)\n",
    "\n",
    "models_to_plot = {1e-15:231, 1e-10:232, 1e-4:233, 1e-3:234, 1e-2:235, 5:236}\n",
    "for i in range(10):\n",
    "    coef_matrix_ridge.iloc[i,] = ridge_regression(data, predictors, alpha_ridge[i], models_to_plot)"
   ]
  },
  {
   "cell_type": "code",
   "execution_count": null,
   "id": "f2af3640-de1f-4ca4-b5a4-f58b5f579aa7",
   "metadata": {},
   "outputs": [],
   "source": [
    "#Set the display format to be scientific for ease of analysis\n",
    "pd.options.display.float_format = '{:,.2g}'.format\n",
    "coef_matrix_ridge"
   ]
  },
  {
   "cell_type": "code",
   "execution_count": null,
   "id": "44a23a1f-e2b3-49c3-b2f2-fc8df2f464ee",
   "metadata": {},
   "outputs": [],
   "source": [
    "# determining the number of zeros in each row of the coefficients data set:\n",
    "coef_matrix_ridge.apply(lambda x: sum(x.values==0),axis=1)"
   ]
  },
  {
   "cell_type": "markdown",
   "id": "141fe37b-c96c-4aae-a29f-cda72926e16e",
   "metadata": {},
   "source": [
    "# Lasso Regression\n",
    "La regressione Lasso è una tecnica di regressione lineare regolarizzata che aggiunge un termine di regolarizzazione L1 alla funzione obiettivo. Questo termine di regolarizzazione aiuta a ridurre la complessità del modello e a selezionare automaticamente un sottoinsieme dei predittori più rilevanti, ponendo i coefficienti dei predittori meno importanti a zero.\n",
    "\n",
    "**Codice:** Funzione che implementa la regressione Lasso su un dataset _data_, utilizzando i predittori specificati. La variabile _alpha_ rappresenta il parametro di regolarizzazione, che controlla il grado di regolarizzazione applicato al modello. La funzione restituisce il risultato della regressione Lasso in formato predefinito, inclusi l'**RSS** _(Residual Sum of Squares)_, l'**intercetta** e i **coefficienti dei predittori**."
   ]
  },
  {
   "cell_type": "code",
   "execution_count": null,
   "id": "db4df594-e250-4082-a669-90b8416308d1",
   "metadata": {},
   "outputs": [],
   "source": [
    "from sklearn.linear_model import Lasso\n",
    "def lasso_regression(data, predictors, alpha, models_to_plot={}):\n",
    "    #Fit the model\n",
    "    scaler = StandardScaler()\n",
    "    data_scaled = scaler.fit_transform(data[predictors])\n",
    "    lassoreg = Lasso(alpha=alpha, max_iter=1000000)\n",
    "    lassoreg.fit(data_scaled,data['y'])\n",
    "    y_pred = lassoreg.predict(data_scaled)\n",
    "\n",
    "    #Check if a plot is to be made for the entered alpha\n",
    "    if alpha in models_to_plot:\n",
    "        plt.subplot(models_to_plot[alpha])\n",
    "        plt.tight_layout()\n",
    "        plt.plot(data['X'],data['y'],'.')\n",
    "        plt.plot(data['X'],y_pred)\n",
    "        plt.title('Plot for alpha: {}'.format(alpha))\n",
    "\n",
    "    #Return the result in pre-defined format\n",
    "    rss = sum((y_pred-data['y'])**2)\n",
    "    ret = [rss]\n",
    "    ret.extend([lassoreg.intercept_])\n",
    "    ret.extend(lassoreg.coef_)\n",
    "    return ret"
   ]
  },
  {
   "cell_type": "code",
   "execution_count": null,
   "id": "4d06518f-ce48-492b-a3f3-0576f0a90c20",
   "metadata": {},
   "outputs": [],
   "source": [
    "#Initialize predictors to all 15 powers of x\n",
    "predictors=['X']\n",
    "predictors.extend(['X_{}'.format(i) for i in range(2,16)])\n",
    "\n",
    "#Define the alpha values to test\n",
    "alpha_lasso = [1e-15, 1e-10, 1e-8, 1e-5,1e-4, 1e-3,1e-2, 1, 5, 10]\n",
    "\n",
    "#Initialize the dataframe to store coefficients\n",
    "col = ['rss','intercept'] + ['coef_X_{}'.format(i) for i in range(1,16)]\n",
    "ind = ['alpha_{}'.format(alpha_lasso[i]) for i in range(0,10)]\n",
    "coef_matrix_lasso = pd.DataFrame(index=ind, columns=col)\n",
    "\n",
    "#Define the models to plot\n",
    "models_to_plot = {1e-10:231, 1e-5:232,1e-4:233, 1e-3:234, 1e-2:235, 1:236}\n",
    "\n",
    "#Iterate over the 10 alpha values:\n",
    "for i in range(10):\n",
    "    coef_matrix_lasso.iloc[i,] = lasso_regression(data, predictors, alpha_lasso[i], models_to_plot)"
   ]
  },
  {
   "cell_type": "code",
   "execution_count": null,
   "id": "e298ac69-b208-40c3-a04a-558c51f32400",
   "metadata": {},
   "outputs": [],
   "source": [
    "pd.options.display.float_format = '{:,.2g}'.format\n",
    "coef_matrix_lasso"
   ]
  },
  {
   "cell_type": "code",
   "execution_count": null,
   "id": "839851e4-021f-44c7-8f29-90a72c3061eb",
   "metadata": {},
   "outputs": [],
   "source": [
    "coef_matrix_lasso.apply(lambda x: sum(x.values==0),axis=1)"
   ]
  }
 ],
 "metadata": {
  "kernelspec": {
   "display_name": "Python 3 (ipykernel)",
   "language": "python",
   "name": "python3"
  },
  "language_info": {
   "codemirror_mode": {
    "name": "ipython",
    "version": 3
   },
   "file_extension": ".py",
   "mimetype": "text/x-python",
   "name": "python",
   "nbconvert_exporter": "python",
   "pygments_lexer": "ipython3",
   "version": "3.10.12"
  }
 },
 "nbformat": 4,
 "nbformat_minor": 5
}
